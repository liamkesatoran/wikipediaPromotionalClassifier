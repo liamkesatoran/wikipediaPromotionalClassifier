{
 "cells": [
  {
   "cell_type": "code",
   "execution_count": 1,
   "metadata": {},
   "outputs": [
    {
     "name": "stderr",
     "output_type": "stream",
     "text": [
      "Using TensorFlow backend.\n"
     ]
    }
   ],
   "source": [
    "# Importing Libraries and setting random seed\n",
    "import numpy as np\n",
    "import pandas as pd\n",
    "from sklearn.model_selection import train_test_split\n",
    "from keras.preprocessing.text import Tokenizer\n",
    "np.random.seed(4)"
   ]
  },
  {
   "cell_type": "code",
   "execution_count": 2,
   "metadata": {},
   "outputs": [],
   "source": [
    "df_good = pd.read_csv('good.csv')\n",
    "df_bad = pd.read_csv('promotional.csv')\n"
   ]
  },
  {
   "cell_type": "code",
   "execution_count": 3,
   "metadata": {},
   "outputs": [
    {
     "name": "stdout",
     "output_type": "stream",
     "text": [
      "                                                text  \\\n",
      "0  Nycticebus linglom is a fossil strepsirrhine p...   \n",
      "1  Oryzomys pliocaenicus is a fossil rodent from ...   \n",
      "2  .hack dt hk is a series of single player actio...   \n",
      "3  The You Drive Me Crazy Tour was the second con...   \n",
      "4  0 8 4 is the second episode of the first seaso...   \n",
      "\n",
      "                                                 url  \n",
      "0  https://en.wikipedia.org/wiki/%3F%20Nycticebus...  \n",
      "1  https://en.wikipedia.org/wiki/%3F%20Oryzomys%2...  \n",
      "2  https://en.wikipedia.org/wiki/.hack%20%28video...  \n",
      "3  https://en.wikipedia.org/wiki/%28You%20Drive%2...  \n",
      "4                https://en.wikipedia.org/wiki/0-8-4  \n",
      "(30279, 2)\n"
     ]
    }
   ],
   "source": [
    "print(df_good.head())\n",
    "print(df_good.shape)"
   ]
  },
  {
   "cell_type": "code",
   "execution_count": 4,
   "metadata": {},
   "outputs": [
    {
     "name": "stdout",
     "output_type": "stream",
     "text": [
      "                                                text  advert  coi  fanpov  pr  \\\n",
      "0  1 Litre no Namida 1, lit. 1 Litre of Tears als...       0    0       1   0   \n",
      "1  1DayLater was free, web based software that wa...       1    1       0   0   \n",
      "2  1E is a privately owned IT software and servic...       1    0       0   0   \n",
      "3  1Malaysia pronounced One Malaysia in English a...       1    0       0   0   \n",
      "4  The Jerusalem Biennale, as stated on the Bienn...       1    0       0   0   \n",
      "\n",
      "   resume                                                url  \n",
      "0       0  https://en.wikipedia.org/wiki/1%20Litre%20no%2...  \n",
      "1       0            https://en.wikipedia.org/wiki/1DayLater  \n",
      "2       0                   https://en.wikipedia.org/wiki/1E  \n",
      "3       0            https://en.wikipedia.org/wiki/1Malaysia  \n",
      "4       0  https://en.wikipedia.org/wiki/1st%20Jerusalem%...  \n",
      "(23837, 7)\n"
     ]
    }
   ],
   "source": [
    "print(df_bad.head())\n",
    "print(df_bad.shape)"
   ]
  },
  {
   "cell_type": "markdown",
   "metadata": {},
   "source": [
    "It is a pretty balanced and very clean dataset, only thing needed is to add a classification label column, and split test and train sets"
   ]
  },
  {
   "cell_type": "code",
   "execution_count": 5,
   "metadata": {},
   "outputs": [],
   "source": [
    "df_good = df_good.drop(df_good.columns[1:],axis=1)\n",
    "df_bad = df_bad.drop(df_bad.columns[1:],axis=1)\n",
    "df_good['classification']=0\n",
    "df_bad['classification']=1"
   ]
  },
  {
   "cell_type": "code",
   "execution_count": 6,
   "metadata": {},
   "outputs": [
    {
     "data": {
      "text/html": [
       "<div>\n",
       "<style scoped>\n",
       "    .dataframe tbody tr th:only-of-type {\n",
       "        vertical-align: middle;\n",
       "    }\n",
       "\n",
       "    .dataframe tbody tr th {\n",
       "        vertical-align: top;\n",
       "    }\n",
       "\n",
       "    .dataframe thead th {\n",
       "        text-align: right;\n",
       "    }\n",
       "</style>\n",
       "<table border=\"1\" class=\"dataframe\">\n",
       "  <thead>\n",
       "    <tr style=\"text-align: right;\">\n",
       "      <th></th>\n",
       "      <th>text</th>\n",
       "      <th>classification</th>\n",
       "    </tr>\n",
       "  </thead>\n",
       "  <tbody>\n",
       "    <tr>\n",
       "      <th>48024</th>\n",
       "      <td>Scott Robinson and Charlene Mitchell are ficti...</td>\n",
       "      <td>1</td>\n",
       "    </tr>\n",
       "    <tr>\n",
       "      <th>23115</th>\n",
       "      <td>Robert of Cricklade c. 1100117479 was a mediev...</td>\n",
       "      <td>0</td>\n",
       "    </tr>\n",
       "    <tr>\n",
       "      <th>29977</th>\n",
       "      <td>The yellow lipped sea krait Laticauda colubrin...</td>\n",
       "      <td>0</td>\n",
       "    </tr>\n",
       "    <tr>\n",
       "      <th>48909</th>\n",
       "      <td>Veronika Scott is an American social entrepren...</td>\n",
       "      <td>1</td>\n",
       "    </tr>\n",
       "    <tr>\n",
       "      <th>4684</th>\n",
       "      <td>1992 1993 1994 1995 The bombing of Banski dvor...</td>\n",
       "      <td>0</td>\n",
       "    </tr>\n",
       "  </tbody>\n",
       "</table>\n",
       "</div>"
      ],
      "text/plain": [
       "                                                    text  classification\n",
       "48024  Scott Robinson and Charlene Mitchell are ficti...               1\n",
       "23115  Robert of Cricklade c. 1100117479 was a mediev...               0\n",
       "29977  The yellow lipped sea krait Laticauda colubrin...               0\n",
       "48909  Veronika Scott is an American social entrepren...               1\n",
       "4684   1992 1993 1994 1995 The bombing of Banski dvor...               0"
      ]
     },
     "execution_count": 6,
     "metadata": {},
     "output_type": "execute_result"
    }
   ],
   "source": [
    "df = pd.concat((df_good,df_bad),ignore_index=True, axis=0)\n",
    "df = df.reindex(np.random.permutation(df.index))\n",
    "df.head()"
   ]
  },
  {
   "cell_type": "code",
   "execution_count": 7,
   "metadata": {},
   "outputs": [
    {
     "data": {
      "text/plain": [
       "count    43292.000000\n",
       "mean         0.439250\n",
       "std          0.496301\n",
       "min          0.000000\n",
       "25%          0.000000\n",
       "50%          0.000000\n",
       "75%          1.000000\n",
       "max          1.000000\n",
       "Name: classification, dtype: float64"
      ]
     },
     "execution_count": 7,
     "metadata": {},
     "output_type": "execute_result"
    }
   ],
   "source": [
    "#Spliting test & train dataset\n",
    "\n",
    "# from sklearn.model_selection import train_test_split\n",
    "predictors = df.drop('classification',axis=1)\n",
    "target = df['classification']\n",
    "X_train,X_test,Y_train,Y_test = train_test_split(predictors,target,test_size=0.20)\n",
    "\n",
    "Y_train.describe()"
   ]
  },
  {
   "cell_type": "code",
   "execution_count": 8,
   "metadata": {},
   "outputs": [],
   "source": [
    "#Preprocessing\n",
    "#Vectorizing dataset using keras Tokenizer function\n",
    "\n",
    "# The maximum number of words to be used. (most frequent)\n",
    "MAX_NB_WORDS = 50000\n",
    "\n",
    "text_data = [str(txt) for txt in X_train.values] # convert text data to strings\n",
    "tokenizer = Tokenizer(num_words=MAX_NB_WORDS, filters='!\"#$%&()*+,-./:;<=>?@[\\]^_`{|}~', lower=True) # create tokenizer object\n",
    "tokenizer.fit_on_texts(text_data) # make dictionary\n",
    "\n",
    "X_train_vect = tokenizer.texts_to_sequences(text_data) # vectorize dataset\n",
    "\n",
    "from keras.preprocessing import sequence\n",
    "\n",
    "# Max number of words in each sequence\n",
    "MAX_SEQUENCE_LENGTH = 400\n",
    "\n",
    "X_train_vect = sequence.pad_sequences(X_train_vect, maxlen=MAX_SEQUENCE_LENGTH)\n"
   ]
  },
  {
   "cell_type": "code",
   "execution_count": 9,
   "metadata": {},
   "outputs": [
    {
     "name": "stderr",
     "output_type": "stream",
     "text": [
      "/usr/lib/python3.8/site-packages/tensorflow_core/python/framework/indexed_slices.py:432: UserWarning: Converting sparse IndexedSlices to a dense Tensor of unknown shape. This may consume a large amount of memory.\n",
      "  warnings.warn(\n"
     ]
    },
    {
     "name": "stdout",
     "output_type": "stream",
     "text": [
      "Train on 36798 samples, validate on 6494 samples\n",
      "Epoch 1/2\n",
      "36798/36798 [==============================] - 515s 14ms/step - loss: 0.3741 - accuracy: 0.8452 - val_loss: 0.2533 - val_accuracy: 0.9145\n",
      "Epoch 2/2\n",
      "36798/36798 [==============================] - 409s 11ms/step - loss: 0.2272 - accuracy: 0.9174 - val_loss: 0.4467 - val_accuracy: 0.7903\n"
     ]
    }
   ],
   "source": [
    "#Defining and training our LSTM using Keras\n",
    "\n",
    "from keras.models import Sequential\n",
    "from keras.layers import Dense, LSTM, Dropout\n",
    "from keras.layers.embeddings import Embedding\n",
    "from keras.optimizers import Adam\n",
    "\n",
    "model = Sequential()\n",
    "\n",
    "\n",
    "\n",
    "EMBEDDING_DIM = 100\n",
    "model.add(Embedding(MAX_NB_WORDS+1, EMBEDDING_DIM, input_length=X_train_vect.shape[1]))\n",
    "\n",
    "\n",
    "\n",
    "model.add(LSTM(80))\n",
    "\n",
    "model.add(Dropout(0.5))\n",
    "model.add(Dense(128, activation='relu'))\n",
    "model.add(Dropout(0.5))\n",
    "model.add(Dense(1, activation='sigmoid'))\n",
    "\n",
    "\n",
    "model.compile(loss='binary_crossentropy', optimizer=Adam(), metrics=['accuracy'])\n",
    "\n",
    "\n",
    "\n",
    "EPOCHS = 2\n",
    "BATCH_SIZE = 64\n",
    "\n",
    "history = model.fit(X_train_vect, Y_train, epochs=EPOCHS, batch_size=BATCH_SIZE, validation_split=0.15)"
   ]
  },
  {
   "cell_type": "code",
   "execution_count": 10,
   "metadata": {},
   "outputs": [],
   "source": [
    "\n",
    "# Prediction from a text\n",
    "def bigModelEvaluate(X):\n",
    "    text_data = [str(txt) for txt in X.values] # convert text data to strings\n",
    "    X_vect = tokenizer.texts_to_sequences(text_data) # vectorize dataset\n",
    "# Max number of words in each sequence\n",
    "    MAX_SEQUENCE_LENGTH = 400\n",
    "    X_vect = sequence.pad_sequences(X_vect, maxlen=MAX_SEQUENCE_LENGTH)\n",
    "    Y_pred = model.predict(X_vect)\n",
    "    Y_pred = [round(x[0]) for x in Y_pred]\n",
    "    return Y_pred"
   ]
  },
  {
   "cell_type": "code",
   "execution_count": 11,
   "metadata": {},
   "outputs": [],
   "source": [
    "Y_pred = bigModelEvaluate(X_test)"
   ]
  },
  {
   "cell_type": "markdown",
   "metadata": {},
   "source": [
    "Metrics:\n",
    "- Confusion matrix ( good guesses and type I/II error)\n",
    "- ROC AUC (Area under receiver operator curve)\n",
    "- Accuracy score"
   ]
  },
  {
   "cell_type": "code",
   "execution_count": 12,
   "metadata": {},
   "outputs": [
    {
     "data": {
      "text/plain": [
       "array([[4365,  656],\n",
       "       [1638, 4165]])"
      ]
     },
     "execution_count": 12,
     "metadata": {},
     "output_type": "execute_result"
    }
   ],
   "source": [
    "from sklearn.metrics import confusion_matrix\n",
    "confusion_matrix(Y_pred, Y_test,labels=[0,1])"
   ]
  },
  {
   "cell_type": "code",
   "execution_count": 13,
   "metadata": {},
   "outputs": [
    {
     "name": "stdout",
     "output_type": "stream",
     "text": [
      "The ROC AUC Score is 79.35 %\n",
      "The Accuracy Score is 78.81 %\n"
     ]
    }
   ],
   "source": [
    "from sklearn.metrics import roc_auc_score\n",
    "from sklearn.metrics import accuracy_score\n",
    "\n",
    "roc_score = round(roc_auc_score(Y_pred,Y_test)*100,2)\n",
    "acc_score=round(accuracy_score(Y_pred,Y_test)*100,2)\n",
    "print('The ROC AUC Score is', roc_score, '%')\n",
    "print('The Accuracy Score is', acc_score, '%')"
   ]
  }
 ],
 "metadata": {
  "kernelspec": {
   "display_name": "Python 3",
   "language": "python",
   "name": "python3"
  },
  "language_info": {
   "codemirror_mode": {
    "name": "ipython",
    "version": 3
   },
   "file_extension": ".py",
   "mimetype": "text/x-python",
   "name": "python",
   "nbconvert_exporter": "python",
   "pygments_lexer": "ipython3",
   "version": "3.8.0"
  }
 },
 "nbformat": 4,
 "nbformat_minor": 2
}
